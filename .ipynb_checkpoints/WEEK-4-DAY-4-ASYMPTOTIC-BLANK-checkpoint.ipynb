{
 "cells": [
  {
   "cell_type": "markdown",
   "metadata": {},
   "source": [
    "# Asymptotic Analysis & Data Structures\n",
    "\n",
    "### Topics to discuss today:\n",
    "\n",
    "<ul>\n",
    "    <li>What is Asymptotic Analysis?</li>\n",
    "    <li>Classifying time complexities</li>\n",
    "    <li>Classifying space complexities</li>\n",
    "    <li>Implementing a LinkedList</li>\n",
    "</ul>"
   ]
  },
  {
   "cell_type": "markdown",
   "metadata": {},
   "source": [
    "### What is Asymptotic Analysis?\n",
    "\n",
    "Asymptotic analysis refers to setting mathematical bounds of an algorithms run-time performance. Asymptotic analysis is used for estimating time and space complexity.\n",
    "\n",
    "There are three metrics we measure:\n",
    "<ul>\n",
    "<li><b>Best Case</b> − Minimum time required for running.</li>\n",
    "<li><b>Average Case</b> − Average time required for running.</li>\n",
    "<li><b>Worst Case</b> − Maximum time required for running.</li>\n",
    "</ul>\n",
    "\n",
    "Here are the two major asymptotic notations that we'll be focusing on today:\n",
    "<ul>\n",
    "<li>Ο Notation (Big O Notation)</li>\n",
    "<li>Ω Notation (Omega Notation)</li>\n",
    "</ul>\n",
    "\n",
    "#### Big O Notation\n",
    "Big O notation expresses the <b>upper bound</b> of an algorithm's execution time. This measures the <b>worst case</b> time complexity.\n",
    "\n",
    "#### Omega Notation\n",
    "Omega notation expresses the <b>lower bound</b> of an algorithm's execution time. This measures the <b>best case</b> time complexity."
   ]
  },
  {
   "cell_type": "markdown",
   "metadata": {},
   "source": [
    "\n",
    "\n",
    "<table style=\"text-align:left;\" class=\"table table-bordered\">\n",
    "    <thead>\n",
    "        <tr>\n",
    "            <th>Name</th>\n",
    "            <th>Time Complexity</th>\n",
    "        </tr>\n",
    "    </thead>\n",
    "\n",
    "  <tr>\n",
    "<td>constant</td>\n",
    "<td>Ο(1)</td>\n",
    "</tr>\n",
    "<tr>\n",
    "<td>logarithmic</td>\n",
    "<td>Ο(log n)</td>\n",
    "</tr>\n",
    "<tr>\n",
    "<td>linear</td>\n",
    "<td>Ο(n)</td>\n",
    "</tr>\n",
    "<tr>\n",
    "<td>n log n</td>\n",
    "<td>Ο(n log n)</td>\n",
    "</tr>\n",
    "<tr>\n",
    "<td>quadratic</td>\n",
    "<td>Ο(n<sup>2</sup>)</td>\n",
    "</tr>\n",
    "<tr>\n",
    "<td>cubic</td>\n",
    "<td>Ο(n<sup>3</sup>)</td>\n",
    "</tr>\n",
    "<tr>\n",
    "<td>polynomial</td>\n",
    "<td>n<sup>Ο(1)</sup></td>\n",
    "</tr>\n",
    "<tr>\n",
    "<td>exponential</td>\n",
    "<td>2<sup>Ο(n)</sup></td>\n",
    "</tr>\n",
    "</table>\n",
    "\n",
    "Extra resources:\n",
    "https://www.youtube.com/watch?v=0oDAlMwTrLo"
   ]
  },
  {
   "cell_type": "markdown",
   "metadata": {},
   "source": [
    "##### O(1) Example\n",
    "No matter the size of the input data, the execution time will always be the same"
   ]
  },
  {
   "cell_type": "code",
   "execution_count": null,
   "metadata": {},
   "outputs": [],
   "source": [
    "def compare_two_numbers(num1, num2):\n",
    "    if num1 > num2: #O(1)\n",
    "        return num1 #O(1)\n",
    "    elif num2 > num1: #O(1)\n",
    "        return num2 #O(1)\n",
    "    else:\n",
    "        return None #O(1)\n",
    "    \n",
    "#Constant -> O(1)\n",
    "%timeit compare_two_numbers(5,6) #only works in jupyter"
   ]
  },
  {
   "cell_type": "markdown",
   "metadata": {},
   "source": [
    "##### O(n) Example\n",
    "The execution time increases linearly with the length of the input. For each growth in size of the input, the time it takes to run increases by the same amount."
   ]
  },
  {
   "cell_type": "code",
   "execution_count": null,
   "metadata": {},
   "outputs": [],
   "source": [
    "def greet_students(name_list):\n",
    "    for name in name_list: #O(n)\n",
    "        greeting_string = f\"Welcome to the Matrix {name}\" #O(1)\n",
    "        \n",
    "#O(N + 1) -> O(n)\n",
    "%timeit greet_students(['mehrab', 'david'])\n",
    "fake_student_list = ['ben' for i in range(10000000)]\n",
    "%timeit greet_students(fake_student_list)"
   ]
  },
  {
   "cell_type": "code",
   "execution_count": null,
   "metadata": {},
   "outputs": [],
   "source": [
    "def my_sum(nums):\n",
    "    count = 0 #O(1)\n",
    "    for num in nums: #O(n)\n",
    "        count += num #O(1)\n",
    "    return count #O(1)\n",
    "\n",
    "#O(n + 3) -> O(n)"
   ]
  },
  {
   "cell_type": "code",
   "execution_count": null,
   "metadata": {},
   "outputs": [],
   "source": [
    "def convert_to_set_and_dict(alist):\n",
    "    output_set, hash_map = set(), {} #O(1)\n",
    "    for e in alist: #O(n)\n",
    "        output_set.add(e) #O(1) \n",
    "    for e in alist: #O(n)\n",
    "        hash_map[e] = hash_map.get(e,0) + 1 #O(1)\n",
    "    return output_set, hash_map #O(1)\n",
    "\n",
    "#O(n + n + 1 + 1 + 1) -> O(2n + 1) -> O(2n) -> O(n) Linear"
   ]
  },
  {
   "cell_type": "code",
   "execution_count": null,
   "metadata": {},
   "outputs": [],
   "source": [
    "#Trick Question\n",
    "\n",
    "def decided_last_element(boolean_list):\n",
    "    #first loop hits return. unable to passed first loop. constant return on first loop\n",
    "    for b in boolean_list:\n",
    "        if not boolean_list[-1]: #O(1)\n",
    "            return True\n",
    "        else:\n",
    "            return False\n",
    "        \n",
    "#O(1)"
   ]
  },
  {
   "cell_type": "code",
   "execution_count": null,
   "metadata": {},
   "outputs": [],
   "source": [
    "#Membership Checks [] () ''\n",
    "print(10 in [1,3,4,6,7,3,7,8,10]) #O(n) Checks every element until matches or finishes list\n",
    "100 in (1,2,3,4,5,7,6,8,100) #O(n) Checks every element until matches or finishes list\n",
    "'3' in '1234347890' #O(n) Checks every element until matches or finishes list\n",
    "\n",
    "my_set = {1,2,3,4,5,6,7,8,9,0} #O(1) key values are hashed, stored in memory\n",
    "\n",
    "my_dict = {'a':1,'b':2,'c':3} #O(1) key values are hashed, stored in memory\n",
    "\n",
    "'c' in my_dict \n",
    "\n"
   ]
  },
  {
   "cell_type": "markdown",
   "metadata": {},
   "source": [
    "##### O(log(n))\n",
    "A logarithmic time complexity increases linearly as the input increases exponentially. Usually this occurs when we decrease the size of our input as we move through our algorithm. It is O(log(n)) when we do divide and conquer type of algorithms like binary search. \n",
    "\n",
    "Additional Explanations:\n",
    "https://www.youtube.com/watch?v=wjDY5RbILno\n"
   ]
  },
  {
   "cell_type": "code",
   "execution_count": 17,
   "metadata": {},
   "outputs": [
    {
     "data": {
      "text/plain": [
       "20"
      ]
     },
     "execution_count": 17,
     "metadata": {},
     "output_type": "execute_result"
    }
   ],
   "source": [
    "def counts_to_num(num):\n",
    "    count, step = 1, 0\n",
    "    while count < num:\n",
    "        count *= 2\n",
    "        step += 1\n",
    "    return step\n",
    "\n",
    "counts_to_num(1000000)"
   ]
  },
  {
   "cell_type": "code",
   "execution_count": 25,
   "metadata": {},
   "outputs": [
    {
     "data": {
      "text/plain": [
       "'100000 not found'"
      ]
     },
     "execution_count": 25,
     "metadata": {},
     "output_type": "execute_result"
    }
   ],
   "source": [
    "#Binary Search \n",
    "\n",
    "def binary_search(target, alist):\n",
    "    left, right = 0 , len(alist) - 1\n",
    "    step = 0\n",
    "    while left <= right - 2:\n",
    "        step += 1\n",
    "        mid_point = (left + right) // 2\n",
    "        if alist[mid_point] == target:\n",
    "            return f'At position {mid_point}, Target: {alist[mid_point]} found in {step} steps'\n",
    "            return mid_point, alist[mid_point]\n",
    "        if alist[mid_point] > target:\n",
    "            right = mid_point\n",
    "        else:\n",
    "            left = mid_point\n",
    "    return f'{target} not found'\n",
    "        \n",
    "nums = [num for num in range(10000)]   \n",
    "binary_search(2, nums)\n",
    "binary_search(100000, nums)"
   ]
  },
  {
   "cell_type": "markdown",
   "metadata": {},
   "source": [
    "###### O(n^2) Example\n",
    "When an algorithm needs to perform a linear time operation for each value in the input data"
   ]
  },
  {
   "cell_type": "code",
   "execution_count": 34,
   "metadata": {},
   "outputs": [
    {
     "data": {
      "text/plain": [
       "1000000"
      ]
     },
     "execution_count": 34,
     "metadata": {},
     "output_type": "execute_result"
    }
   ],
   "source": [
    "def quadratic_solution(alist):\n",
    "    steps = 0 #O(1)\n",
    "    for e in alist: #O(n)\n",
    "        for ele in alist: #O(n)\n",
    "            steps += 1 #O(1)\n",
    "    return steps #O(1)\n",
    "\n",
    "#O(n**2)\n",
    "quadratic_solution([num for num in range(1000)])"
   ]
  },
  {
   "cell_type": "code",
   "execution_count": 35,
   "metadata": {},
   "outputs": [
    {
     "data": {
      "text/plain": [
       "1"
      ]
     },
     "execution_count": 35,
     "metadata": {},
     "output_type": "execute_result"
    }
   ],
   "source": [
    "def find_most_occuring(alist):\n",
    "    max_count = 0 #O(1)\n",
    "    output_element = None #O(1)\n",
    "    for e in alist: #O(n)\n",
    "        current_count = alist.count(e) #O(n)\n",
    "        if current_count > max_count: #O(1)\n",
    "            max_count = current_count #O(1)\n",
    "            output_element = e #O(1)\n",
    "    return output_element #O(1)\n",
    "\n",
    "O(n**2)\n",
    "find_most_occuring([1,1,4,9,1,9,1])"
   ]
  },
  {
   "cell_type": "code",
   "execution_count": 37,
   "metadata": {},
   "outputs": [
    {
     "data": {
      "text/plain": [
       "True"
      ]
     },
     "execution_count": 37,
     "metadata": {},
     "output_type": "execute_result"
    }
   ],
   "source": [
    "def find_vowel(astring):\n",
    "    vowels = 'aeiou' #O(1)\n",
    "    for letter in astring.lower(): #O(2n)\n",
    "        if letter in vowels: #O(5) since vowels length is defined \n",
    "            return True #O(1)\n",
    "    return False #O(1)\n",
    "\n",
    "#O(5n)\n",
    "find_vowel('bcdaaa')"
   ]
  },
  {
   "cell_type": "markdown",
   "metadata": {},
   "source": [
    "### In-Class Exercise\n",
    "In a comment in the following three cells, classify each algorithm into one of the time complexities discussed above."
   ]
  },
  {
   "cell_type": "code",
   "execution_count": null,
   "metadata": {},
   "outputs": [],
   "source": [
    "def two_sum_loops(nums, target):\n",
    "    for i, num in enumerate(nums): #O(2N)\n",
    "        for j, num2 in enumerate(nums[i + 1:]): #O(3N)\n",
    "            if target - num == num2: #O(1)\n",
    "                return [i,j+i+1] #O(1)\n",
    "#O(n**2)"
   ]
  },
  {
   "cell_type": "code",
   "execution_count": 3,
   "metadata": {},
   "outputs": [],
   "source": [
    "def two_sum(nums, target):\n",
    "    d={} #O(1)\n",
    "    for i, num in enumerate(nums): #O(2n)\n",
    "        if target - num in d: #O(1)\n",
    "            return [d[target-num],i] #O(1)\n",
    "        d[num]=i #O(1)\n",
    "    return -1 #O(1)\n",
    "#O(n)"
   ]
  },
  {
   "cell_type": "code",
   "execution_count": 4,
   "metadata": {},
   "outputs": [],
   "source": [
    "def check_if_num_in_list(a_list, value):\n",
    "    return value in a_list #O(n)\n",
    "#O(n)"
   ]
  },
  {
   "cell_type": "markdown",
   "metadata": {},
   "source": [
    "## Space Complexity\n",
    "Space complexity refers to the total amount of memory space that is consumed by an algorithm. This value includes both any new values created as well as well as input values\n",
    "\n",
    "We'll use Big O notation for space complexity as well. In this case, Big O gives the worst-case of an algorithm’s growth rate. \n",
    "\n",
    "\"The space this algorithm takes will grow no more quickly than this, but it could grow more slowly.\""
   ]
  },
  {
   "cell_type": "markdown",
   "metadata": {},
   "source": [
    "###### O(1) Example"
   ]
  },
  {
   "cell_type": "code",
   "execution_count": 41,
   "metadata": {
    "scrolled": true
   },
   "outputs": [],
   "source": [
    "#input space - O(1+1) O(1)\n",
    "#aux space - O(1)\n",
    "def add_nums(num1 , num2):\n",
    "    output = num1 + num2 # O(1)\n",
    "    return output"
   ]
  },
  {
   "cell_type": "markdown",
   "metadata": {},
   "source": [
    "###### O(n) Example\n",
    "Input Space: O(n) <- This comes from aList in the input\n",
    "Auxiliary Space: O(1) <- The only variables created in the function are integers\n",
    "\n",
    "Total Space: O(n + 1) or O(n)"
   ]
  },
  {
   "cell_type": "code",
   "execution_count": 42,
   "metadata": {},
   "outputs": [],
   "source": [
    "#input: O(n) based off size input list\n",
    "#aux: O(1)\n",
    "def add_nums(alist):\n",
    "    count = 0\n",
    "    for num in alist:\n",
    "        count += num\n",
    "    return count\n",
    "#O(n)"
   ]
  },
  {
   "cell_type": "code",
   "execution_count": null,
   "metadata": {},
   "outputs": [],
   "source": [
    "#input space: O(1)\n",
    "#aux space: O(n)\n",
    "\n",
    "def get_squared_numbers(num):\n",
    "    output = []\n",
    "    for n in range (num):\n",
    "        output.append(n**2)\n",
    "    return output\n",
    "\n",
    "#O(n)"
   ]
  },
  {
   "cell_type": "markdown",
   "metadata": {},
   "source": [
    "The recursive calls generate new function calls in the stack. Each call on the stack stores a separate copy of the variables defined in the function. The array is passed by reference so a separate copy of the array is not created for each function call. As we can have O(log(n)) calls to the function, the space complexity of the recursive version should include the O(log(n)) auxiliary space. Hence, the overall space complexity is:\n",
    "\n",
    "Input space: O(n)\n",
    "Auxiliary space: O(log n)\n",
    "\n",
    "Total Space: O(n + log n) OR O(n)"
   ]
  },
  {
   "cell_type": "code",
   "execution_count": null,
   "metadata": {},
   "outputs": [],
   "source": []
  },
  {
   "cell_type": "code",
   "execution_count": null,
   "metadata": {},
   "outputs": [],
   "source": []
  }
 ],
 "metadata": {
  "kernelspec": {
   "display_name": "Python 3 (ipykernel)",
   "language": "python",
   "name": "python3"
  },
  "language_info": {
   "codemirror_mode": {
    "name": "ipython",
    "version": 3
   },
   "file_extension": ".py",
   "mimetype": "text/x-python",
   "name": "python",
   "nbconvert_exporter": "python",
   "pygments_lexer": "ipython3",
   "version": "3.10.9"
  }
 },
 "nbformat": 4,
 "nbformat_minor": 2
}
